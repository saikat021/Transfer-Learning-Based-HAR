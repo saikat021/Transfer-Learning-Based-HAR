{
  "nbformat": 4,
  "nbformat_minor": 0,
  "metadata": {
    "kernelspec": {
      "name": "python3",
      "display_name": "Python 3"
    },
    "language_info": {
      "codemirror_mode": {
        "name": "ipython",
        "version": 3
      },
      "file_extension": ".py",
      "mimetype": "text/x-python",
      "name": "python",
      "nbconvert_exporter": "python",
      "pygments_lexer": "ipython3",
      "version": "3.6.8"
    },
    "colab": {
      "name": "Copy of play_instrument.ipynb",
      "provenance": [],
      "collapsed_sections": [],
      "machine_shape": "hm"
    },
    "accelerator": "GPU",
    "widgets": {
      "application/vnd.jupyter.widget-state+json": {
        "f5088970e23c475d8e4f23e4ef513d93": {
          "model_module": "@jupyter-widgets/controls",
          "model_name": "HBoxModel",
          "state": {
            "_view_name": "HBoxView",
            "_dom_classes": [],
            "_model_name": "HBoxModel",
            "_view_module": "@jupyter-widgets/controls",
            "_model_module_version": "1.5.0",
            "_view_count": null,
            "_view_module_version": "1.5.0",
            "box_style": "",
            "layout": "IPY_MODEL_f8d8f100f6934c2ba1162c3b14f9d177",
            "_model_module": "@jupyter-widgets/controls",
            "children": [
              "IPY_MODEL_298ab7b470704e08bbd0fb0cda957689",
              "IPY_MODEL_84a1c1e3c88743519b36b91ba7398898"
            ]
          }
        },
        "f8d8f100f6934c2ba1162c3b14f9d177": {
          "model_module": "@jupyter-widgets/base",
          "model_name": "LayoutModel",
          "state": {
            "_view_name": "LayoutView",
            "grid_template_rows": null,
            "right": null,
            "justify_content": null,
            "_view_module": "@jupyter-widgets/base",
            "overflow": null,
            "_model_module_version": "1.2.0",
            "_view_count": null,
            "flex_flow": null,
            "width": null,
            "min_width": null,
            "border": null,
            "align_items": null,
            "bottom": null,
            "_model_module": "@jupyter-widgets/base",
            "top": null,
            "grid_column": null,
            "overflow_y": null,
            "overflow_x": null,
            "grid_auto_flow": null,
            "grid_area": null,
            "grid_template_columns": null,
            "flex": null,
            "_model_name": "LayoutModel",
            "justify_items": null,
            "grid_row": null,
            "max_height": null,
            "align_content": null,
            "visibility": null,
            "align_self": null,
            "height": null,
            "min_height": null,
            "padding": null,
            "grid_auto_rows": null,
            "grid_gap": null,
            "max_width": null,
            "order": null,
            "_view_module_version": "1.2.0",
            "grid_template_areas": null,
            "object_position": null,
            "object_fit": null,
            "grid_auto_columns": null,
            "margin": null,
            "display": null,
            "left": null
          }
        },
        "298ab7b470704e08bbd0fb0cda957689": {
          "model_module": "@jupyter-widgets/controls",
          "model_name": "FloatProgressModel",
          "state": {
            "_view_name": "ProgressView",
            "style": "IPY_MODEL_0a750391e63b40e980c6eaa7b332754a",
            "_dom_classes": [],
            "description": "100%",
            "_model_name": "FloatProgressModel",
            "bar_style": "success",
            "max": 241530880,
            "_view_module": "@jupyter-widgets/controls",
            "_model_module_version": "1.5.0",
            "value": 241530880,
            "_view_count": null,
            "_view_module_version": "1.5.0",
            "orientation": "horizontal",
            "min": 0,
            "description_tooltip": null,
            "_model_module": "@jupyter-widgets/controls",
            "layout": "IPY_MODEL_a2b16ee7ac37478d9e6e5d657e7802e8"
          }
        },
        "84a1c1e3c88743519b36b91ba7398898": {
          "model_module": "@jupyter-widgets/controls",
          "model_name": "HTMLModel",
          "state": {
            "_view_name": "HTMLView",
            "style": "IPY_MODEL_5f61854513ee4cdc844027a678c9e9d4",
            "_dom_classes": [],
            "description": "",
            "_model_name": "HTMLModel",
            "placeholder": "​",
            "_view_module": "@jupyter-widgets/controls",
            "_model_module_version": "1.5.0",
            "value": " 230M/230M [03:30&lt;00:00, 1.14MB/s]",
            "_view_count": null,
            "_view_module_version": "1.5.0",
            "description_tooltip": null,
            "_model_module": "@jupyter-widgets/controls",
            "layout": "IPY_MODEL_023e4d951ba549e39aa23a0f0b97f45e"
          }
        },
        "0a750391e63b40e980c6eaa7b332754a": {
          "model_module": "@jupyter-widgets/controls",
          "model_name": "ProgressStyleModel",
          "state": {
            "_view_name": "StyleView",
            "_model_name": "ProgressStyleModel",
            "description_width": "initial",
            "_view_module": "@jupyter-widgets/base",
            "_model_module_version": "1.5.0",
            "_view_count": null,
            "_view_module_version": "1.2.0",
            "bar_color": null,
            "_model_module": "@jupyter-widgets/controls"
          }
        },
        "a2b16ee7ac37478d9e6e5d657e7802e8": {
          "model_module": "@jupyter-widgets/base",
          "model_name": "LayoutModel",
          "state": {
            "_view_name": "LayoutView",
            "grid_template_rows": null,
            "right": null,
            "justify_content": null,
            "_view_module": "@jupyter-widgets/base",
            "overflow": null,
            "_model_module_version": "1.2.0",
            "_view_count": null,
            "flex_flow": null,
            "width": null,
            "min_width": null,
            "border": null,
            "align_items": null,
            "bottom": null,
            "_model_module": "@jupyter-widgets/base",
            "top": null,
            "grid_column": null,
            "overflow_y": null,
            "overflow_x": null,
            "grid_auto_flow": null,
            "grid_area": null,
            "grid_template_columns": null,
            "flex": null,
            "_model_name": "LayoutModel",
            "justify_items": null,
            "grid_row": null,
            "max_height": null,
            "align_content": null,
            "visibility": null,
            "align_self": null,
            "height": null,
            "min_height": null,
            "padding": null,
            "grid_auto_rows": null,
            "grid_gap": null,
            "max_width": null,
            "order": null,
            "_view_module_version": "1.2.0",
            "grid_template_areas": null,
            "object_position": null,
            "object_fit": null,
            "grid_auto_columns": null,
            "margin": null,
            "display": null,
            "left": null
          }
        },
        "5f61854513ee4cdc844027a678c9e9d4": {
          "model_module": "@jupyter-widgets/controls",
          "model_name": "DescriptionStyleModel",
          "state": {
            "_view_name": "StyleView",
            "_model_name": "DescriptionStyleModel",
            "description_width": "",
            "_view_module": "@jupyter-widgets/base",
            "_model_module_version": "1.5.0",
            "_view_count": null,
            "_view_module_version": "1.2.0",
            "_model_module": "@jupyter-widgets/controls"
          }
        },
        "023e4d951ba549e39aa23a0f0b97f45e": {
          "model_module": "@jupyter-widgets/base",
          "model_name": "LayoutModel",
          "state": {
            "_view_name": "LayoutView",
            "grid_template_rows": null,
            "right": null,
            "justify_content": null,
            "_view_module": "@jupyter-widgets/base",
            "overflow": null,
            "_model_module_version": "1.2.0",
            "_view_count": null,
            "flex_flow": null,
            "width": null,
            "min_width": null,
            "border": null,
            "align_items": null,
            "bottom": null,
            "_model_module": "@jupyter-widgets/base",
            "top": null,
            "grid_column": null,
            "overflow_y": null,
            "overflow_x": null,
            "grid_auto_flow": null,
            "grid_area": null,
            "grid_template_columns": null,
            "flex": null,
            "_model_name": "LayoutModel",
            "justify_items": null,
            "grid_row": null,
            "max_height": null,
            "align_content": null,
            "visibility": null,
            "align_self": null,
            "height": null,
            "min_height": null,
            "padding": null,
            "grid_auto_rows": null,
            "grid_gap": null,
            "max_width": null,
            "order": null,
            "_view_module_version": "1.2.0",
            "grid_template_areas": null,
            "object_position": null,
            "object_fit": null,
            "grid_auto_columns": null,
            "margin": null,
            "display": null,
            "left": null
          }
        }
      }
    }
  },
  "cells": [
    {
      "cell_type": "code",
      "metadata": {
        "id": "2mI7anSqkUmc",
        "outputId": "b8359804-2858-446e-e76a-78765a5450a1",
        "colab": {
          "base_uri": "https://localhost:8080/",
          "height": 171
        }
      },
      "source": [
        "pip install Augmentor\n"
      ],
      "execution_count": null,
      "outputs": [
        {
          "output_type": "stream",
          "text": [
            "Collecting Augmentor\n",
            "  Downloading https://files.pythonhosted.org/packages/cb/79/861f38d5830cff631e30e33b127076bfef8ac98171e51daa06df0118c75f/Augmentor-0.2.8-py2.py3-none-any.whl\n",
            "Requirement already satisfied: future>=0.16.0 in /usr/local/lib/python3.6/dist-packages (from Augmentor) (0.16.0)\n",
            "Requirement already satisfied: tqdm>=4.9.0 in /usr/local/lib/python3.6/dist-packages (from Augmentor) (4.41.1)\n",
            "Requirement already satisfied: Pillow>=5.2.0 in /usr/local/lib/python3.6/dist-packages (from Augmentor) (7.0.0)\n",
            "Requirement already satisfied: numpy>=1.11.0 in /usr/local/lib/python3.6/dist-packages (from Augmentor) (1.18.5)\n",
            "Installing collected packages: Augmentor\n",
            "Successfully installed Augmentor-0.2.8\n"
          ],
          "name": "stdout"
        }
      ]
    },
    {
      "cell_type": "code",
      "metadata": {
        "id": "dXTpKHGIvdUB"
      },
      "source": [
        "\n",
        "\n",
        "import Augmentor \n",
        "from __future__ import print_function, division\n",
        "\n",
        "import torch\n",
        "import torch.nn as nn\n",
        "import torch.optim as optim\n",
        "from torch.optim import lr_scheduler\n",
        "\n",
        "import numpy as np\n",
        "\n",
        "\n",
        "import torchvision\n",
        "from torchvision import datasets, models, transforms\n",
        "import matplotlib.pyplot as plt\n",
        "import time\n",
        "import os\n",
        "import copy\n",
        "\n",
        "\n",
        "plt.ion()   # interactive mode"
      ],
      "execution_count": null,
      "outputs": []
    },
    {
      "cell_type": "code",
      "metadata": {
        "id": "FQ0-jpjcFoiD",
        "outputId": "c6339fd3-a038-445d-dd22-f3f7c7c27bfb",
        "colab": {
          "base_uri": "https://localhost:8080/",
          "height": 121
        }
      },
      "source": [
        "from google.colab import drive\n",
        "drive.mount('/content/drive')"
      ],
      "execution_count": null,
      "outputs": [
        {
          "output_type": "stream",
          "text": [
            "Go to this URL in a browser: https://accounts.google.com/o/oauth2/auth?client_id=947318989803-6bn6qk8qdgf4n4g3pfee6491hc0brc4i.apps.googleusercontent.com&redirect_uri=urn%3aietf%3awg%3aoauth%3a2.0%3aoob&scope=email%20https%3a%2f%2fwww.googleapis.com%2fauth%2fdocs.test%20https%3a%2f%2fwww.googleapis.com%2fauth%2fdrive%20https%3a%2f%2fwww.googleapis.com%2fauth%2fdrive.photos.readonly%20https%3a%2f%2fwww.googleapis.com%2fauth%2fpeopleapi.readonly&response_type=code\n",
            "\n",
            "Enter your authorization code:\n",
            "··········\n",
            "Mounted at /content/drive\n"
          ],
          "name": "stdout"
        }
      ]
    },
    {
      "cell_type": "code",
      "metadata": {
        "id": "Jc5hp_Wc9KTJ"
      },
      "source": [
        "class ImageFolderWithPaths(datasets.ImageFolder):\n",
        "    \"\"\"Custom dataset that includes image file paths. Extends\n",
        "    torchvision.datasets.ImageFolder\n",
        "    \"\"\"\n",
        "\n",
        "    # override the __getitem__ method. this is the method that dataloader calls\n",
        "    def __getitem__(self, index):\n",
        "        # this is what ImageFolder normally returns \n",
        "        original_tuple = super(ImageFolderWithPaths, self).__getitem__(index)\n",
        "        # the image file path\n",
        "        path = self.imgs[index][0]\n",
        "        # make a new tuple that includes original and the path\n",
        "        tuple_with_path = (original_tuple + (path,))\n",
        "        return tuple_with_path\n"
      ],
      "execution_count": null,
      "outputs": []
    },
    {
      "cell_type": "code",
      "metadata": {
        "id": "EX-CRthkvdUE",
        "outputId": "a3a6c05b-9fa7-45ea-da00-b2b13ad7204d",
        "colab": {
          "base_uri": "https://localhost:8080/",
          "height": 138
        }
      },
      "source": [
        "# Data augmentation and normalization for training\n",
        "# Just normalization for validation\n",
        "data_transforms = {\n",
        "    'train': transforms.Compose([\n",
        "        transforms.Resize((299,299)),\n",
        "        #transforms.RandomResizedCrop(224),\n",
        "        #transforms.RandomHorizontalFlip(),\n",
        "        transforms.ToTensor(),\n",
        "        #transforms.Normalize([0.485, 0.456, 0.406], [0.229, 0.224, 0.225])\n",
        "    ]),\n",
        "    'val': transforms.Compose([\n",
        "        transforms.Resize((299,299)),\n",
        "       # transforms.CenterCrop(224),\n",
        "        #transforms.RandomResizedCrop(224),\n",
        "        #transforms.RandomHorizontalFlip(),\n",
        "        transforms.ToTensor(),\n",
        "        #transforms.Normalize([0.485, 0.456, 0.406], [0.229, 0.224, 0.225])\n",
        "    ]), \n",
        "}\n",
        "#Batch_size={}\n",
        "#Batch_size['train']=8\n",
        "#Batch_size['val']=1\n",
        "data_dir = '/content/drive/My Drive/Stanford40/body'\n",
        "image_datasets = {x: ImageFolderWithPaths(os.path.join(data_dir, x),\n",
        "                                          data_transforms[x])\n",
        "                  for x in ['train','val']}\n",
        "dataloaders = {x: torch.utils.data.DataLoader(image_datasets[x], batch_size=8,\n",
        "                                             shuffle=True, num_workers=4)\n",
        "              for x in ['train','val']}\n",
        "dataset_sizes = {x: len(image_datasets[x]) for x in ['train','val']}\n",
        "class_names = image_datasets['train'].classes\n",
        "num_classes=len(class_names)\n",
        "print(num_classes)\n",
        "\n",
        "\n",
        "device = torch.device(\"cuda:0\" if torch.cuda.is_available() else \"cpu\")\n",
        "print(dataset_sizes)\n",
        "print(class_names)\n",
        "class_datapoints = torch.zeros(num_classes, dtype=torch.long)\n",
        "\n",
        "for _,label,_ in dataloaders['train']:\n",
        " for i in label:\n",
        "   class_datapoints[i]+=1\n",
        "print(class_datapoints)\n",
        "dataclass={}\n",
        "for i in range(0,11):\n",
        "  dataclass[class_names[i]]=class_datapoints[i].item()\n",
        "print(dataclass)\n",
        "\n",
        "\n",
        "data_class={k: v for k, v in sorted(dataclass.items(), key=lambda item: item[1])}\n",
        "print(data_class)\n",
        "\n"
      ],
      "execution_count": null,
      "outputs": [
        {
          "output_type": "stream",
          "text": [
            "11\n",
            "{'train': 1900, 'val': 846}\n",
            "['Cleaning_floor', 'Climbing', 'Jumping', 'Riding_bike', 'Riding_horse', 'Rowing_boat', 'Running', 'Shooting_arrow', 'Throwing_frisby', 'Walking_dog', 'Waving_hands']\n",
            "tensor([150, 200, 200, 200, 200, 130, 170, 150, 150, 200, 150])\n",
            "{'Cleaning_floor': 150, 'Climbing': 200, 'Jumping': 200, 'Riding_bike': 200, 'Riding_horse': 200, 'Rowing_boat': 130, 'Running': 170, 'Shooting_arrow': 150, 'Throwing_frisby': 150, 'Walking_dog': 200, 'Waving_hands': 150}\n",
            "{'Rowing_boat': 130, 'Cleaning_floor': 150, 'Shooting_arrow': 150, 'Throwing_frisby': 150, 'Waving_hands': 150, 'Running': 170, 'Climbing': 200, 'Jumping': 200, 'Riding_bike': 200, 'Riding_horse': 200, 'Walking_dog': 200}\n"
          ],
          "name": "stdout"
        }
      ]
    },
    {
      "cell_type": "code",
      "metadata": {
        "id": "e_fcdORPkh2t",
        "outputId": "692c2936-20a2-4d2c-df24-31af175c8b9d",
        "colab": {
          "base_uri": "https://localhost:8080/",
          "height": 406
        }
      },
      "source": [
        "#p=Augmentor.Pipeline('/content/drive/My Drive/ppmi_12_class/play_instrument/dataset/train/bassoon')\n",
        "#p.rotate(probability=0.7, max_left_rotation=10, max_right_rotation=10)\n",
        "#p.zoom(probability=0.5, min_factor=1.1, max_factor=1.5)\n",
        "#p.flip_left_right(probability=0.5)\n",
        "#p.flip_top_bottom(probability=0.5)\n",
        "#p.sample(100)\n",
        "data_dir = '/content/drive/My Drive/Stanford40/body/train'\n",
        "out_dir='/content/drive/My Drive/Stanford40/body/aug_train'\n",
        "size=[30,50,80,180,200,300,400,700,800,900,1000]\n",
        "i=0\n",
        "for k in data_class.keys():\n",
        "  #print(k)\n",
        "  p=Augmentor.Pipeline(os.path.join(data_dir,k),os.path.join(out_dir,k))\n",
        "  p.rotate(probability=0.7, max_left_rotation=10, max_right_rotation=10)\n",
        "  p.zoom(probability=0.5, min_factor=1.1, max_factor=1.5)\n",
        "  p.flip_left_right(probability=0.5)\n",
        "  p.sample(size[i])\n",
        "  i+=1\n",
        "\n",
        "  \n",
        "\n"
      ],
      "execution_count": null,
      "outputs": [
        {
          "output_type": "stream",
          "text": [
            "Processing <PIL.Image.Image image mode=RGB size=452x300 at 0x7FD820475278>:   3%|▎         | 1/30 [00:00<00:05,  5.39 Samples/s]"
          ],
          "name": "stderr"
        },
        {
          "output_type": "stream",
          "text": [
            "Initialised with 130 image(s) found.\n",
            "Output directory set to /content/drive/My Drive/Stanford40/body/aug_train/Rowing_boat."
          ],
          "name": "stdout"
        },
        {
          "output_type": "stream",
          "text": [
            "Processing <PIL.Image.Image image mode=RGB size=204x200 at 0x7FD8204DF978>: 100%|██████████| 30/30 [00:00<00:00, 49.25 Samples/s]\n",
            "Processing <PIL.Image.Image image mode=RGB size=200x200 at 0x7FD82891F3C8>:   2%|▏         | 1/50 [00:00<00:07,  6.74 Samples/s]"
          ],
          "name": "stderr"
        },
        {
          "output_type": "stream",
          "text": [
            "Initialised with 150 image(s) found.\n",
            "Output directory set to /content/drive/My Drive/Stanford40/body/aug_train/Cleaning_floor."
          ],
          "name": "stdout"
        },
        {
          "output_type": "stream",
          "text": [
            "Processing <PIL.Image.Image image mode=RGB size=300x371 at 0x7FD82049B5F8>: 100%|██████████| 50/50 [00:01<00:00, 49.47 Samples/s]\n",
            "Executing Pipeline:   0%|          | 0/80 [00:00<?, ? Samples/s]"
          ],
          "name": "stderr"
        },
        {
          "output_type": "stream",
          "text": [
            "Initialised with 150 image(s) found.\n",
            "Output directory set to /content/drive/My Drive/Stanford40/body/aug_train/Shooting_arrow."
          ],
          "name": "stdout"
        },
        {
          "output_type": "stream",
          "text": [
            "Processing <PIL.Image.Image image mode=RGB size=422x400 at 0x7FD820427438>: 100%|██████████| 80/80 [00:01<00:00, 42.24 Samples/s]\n",
            "Processing <PIL.Image.Image image mode=RGB size=300x426 at 0x7FD82891C470>:   2%|▏         | 3/180 [00:00<00:26,  6.77 Samples/s]"
          ],
          "name": "stderr"
        },
        {
          "output_type": "stream",
          "text": [
            "Initialised with 150 image(s) found.\n",
            "Output directory set to /content/drive/My Drive/Stanford40/body/aug_train/Throwing_frisby."
          ],
          "name": "stdout"
        },
        {
          "output_type": "stream",
          "text": [
            "Processing <PIL.Image.Image image mode=RGB size=400x426 at 0x7FD820460860>: 100%|██████████| 180/180 [00:03<00:00, 51.92 Samples/s]\n",
            "Executing Pipeline:   0%|          | 0/200 [00:00<?, ? Samples/s]"
          ],
          "name": "stderr"
        },
        {
          "output_type": "stream",
          "text": [
            "Initialised with 150 image(s) found.\n",
            "Output directory set to /content/drive/My Drive/Stanford40/body/aug_train/Waving_hands."
          ],
          "name": "stdout"
        },
        {
          "output_type": "stream",
          "text": [
            "Processing <PIL.Image.Image image mode=RGB size=400x400 at 0x7FD82042B6A0>: 100%|██████████| 200/200 [00:04<00:00, 45.12 Samples/s]\n",
            "Processing <PIL.Image.Image image mode=RGB size=472x300 at 0x7FD8289213C8>:   0%|          | 1/300 [00:00<00:37,  7.98 Samples/s]"
          ],
          "name": "stderr"
        },
        {
          "output_type": "stream",
          "text": [
            "Initialised with 170 image(s) found.\n",
            "Output directory set to /content/drive/My Drive/Stanford40/body/aug_train/Running."
          ],
          "name": "stdout"
        },
        {
          "output_type": "stream",
          "text": [
            "Processing <PIL.Image.Image image mode=RGB size=300x450 at 0x7FD820419160>: 100%|██████████| 300/300 [00:06<00:00, 48.30 Samples/s]\n",
            "Processing <PIL.JpegImagePlugin.JpegImageFile image mode=RGB size=300x452 at 0x7FD82891CD68>:   2%|▏         | 8/400 [00:00<00:54,  7.15 Samples/s]"
          ],
          "name": "stderr"
        },
        {
          "output_type": "stream",
          "text": [
            "Initialised with 200 image(s) found.\n",
            "Output directory set to /content/drive/My Drive/Stanford40/body/aug_train/Climbing."
          ],
          "name": "stdout"
        },
        {
          "output_type": "stream",
          "text": [
            "Processing <PIL.Image.Image image mode=RGB size=300x450 at 0x7FD8203C9470>: 100%|██████████| 400/400 [00:07<00:00, 51.69 Samples/s]\n",
            "Executing Pipeline:   0%|          | 0/700 [00:00<?, ? Samples/s]"
          ],
          "name": "stderr"
        },
        {
          "output_type": "stream",
          "text": [
            "Initialised with 200 image(s) found.\n",
            "Output directory set to /content/drive/My Drive/Stanford40/body/aug_train/Jumping."
          ],
          "name": "stdout"
        },
        {
          "output_type": "stream",
          "text": [
            "Processing <PIL.Image.Image image mode=RGB size=400x300 at 0x7FD820333908>: 100%|██████████| 700/700 [00:13<00:00, 50.79 Samples/s]\n",
            "Executing Pipeline:   0%|          | 0/800 [00:00<?, ? Samples/s]"
          ],
          "name": "stderr"
        },
        {
          "output_type": "stream",
          "text": [
            "Initialised with 200 image(s) found.\n",
            "Output directory set to /content/drive/My Drive/Stanford40/body/aug_train/Riding_bike."
          ],
          "name": "stdout"
        },
        {
          "output_type": "stream",
          "text": [
            "Processing <PIL.Image.Image image mode=RGB size=200x224 at 0x7FD8202ECD68>: 100%|██████████| 800/800 [00:16<00:00, 47.47 Samples/s]\n",
            "Executing Pipeline:   0%|          | 0/900 [00:00<?, ? Samples/s]"
          ],
          "name": "stderr"
        },
        {
          "output_type": "stream",
          "text": [
            "Initialised with 200 image(s) found.\n",
            "Output directory set to /content/drive/My Drive/Stanford40/body/aug_train/Riding_horse."
          ],
          "name": "stdout"
        },
        {
          "output_type": "stream",
          "text": [
            "Processing <PIL.Image.Image image mode=RGB size=438x300 at 0x7FD8203D7C18>: 100%|██████████| 900/900 [00:18<00:00, 49.25 Samples/s]\n",
            "Executing Pipeline:   0%|          | 0/1000 [00:00<?, ? Samples/s]"
          ],
          "name": "stderr"
        },
        {
          "output_type": "stream",
          "text": [
            "Initialised with 200 image(s) found.\n",
            "Output directory set to /content/drive/My Drive/Stanford40/body/aug_train/Walking_dog."
          ],
          "name": "stdout"
        },
        {
          "output_type": "stream",
          "text": [
            "Processing <PIL.Image.Image image mode=RGB size=390x300 at 0x7FD8202BEB38>: 100%|██████████| 1000/1000 [00:20<00:00, 48.23 Samples/s]\n"
          ],
          "name": "stderr"
        }
      ]
    },
    {
      "cell_type": "code",
      "metadata": {
        "id": "H2-w8WZntvPl",
        "outputId": "f0919e40-9514-4d8e-93de-33c58130bb8e",
        "colab": {
          "base_uri": "https://localhost:8080/",
          "height": 104
        }
      },
      "source": [
        "# Data augmentation and normalization for training\n",
        "# Just normalization for validation\n",
        "data_transforms = {\n",
        "    'aug_train': transforms.Compose([\n",
        "        transforms.Resize((299,299)),\n",
        "        #transforms.RandomResizedCrop(224),\n",
        "        #transforms.RandomHorizontalFlip(),\n",
        "        transforms.ToTensor(),\n",
        "        #transforms.Normalize([0.485, 0.456, 0.406], [0.229, 0.224, 0.225])\n",
        "    ]),\n",
        "    'val': transforms.Compose([\n",
        "        transforms.Resize((299,299)),\n",
        "        #transforms.CenterCrop(224),\n",
        "        transforms.ToTensor(),\n",
        "        #transforms.Normalize([0.485, 0.456, 0.406], [0.229, 0.224, 0.225])\n",
        "    ]), \n",
        "}\n",
        "\n",
        "\n",
        "data_dir = '/content/drive/My Drive/Stanford40/body'\n",
        "image_datasets = {x: ImageFolderWithPaths(os.path.join(data_dir, x),\n",
        "                                          data_transforms[x])\n",
        "                  for x in ['aug_train','val']}\n",
        "dataloaders = {x: torch.utils.data.DataLoader(image_datasets[x], batch_size=8,\n",
        "                                             shuffle=True, num_workers=4)\n",
        "              for x in ['aug_train','val']}\n",
        "dataset_sizes = {x: len(image_datasets[x]) for x in ['aug_train','val']}\n",
        "class_names = image_datasets['aug_train'].classes\n",
        "num_classes=len(class_names)\n",
        "print(num_classes)\n",
        "\n",
        "\n",
        "device = torch.device(\"cuda:0\" if torch.cuda.is_available() else \"cpu\")\n",
        "print(dataset_sizes)\n",
        "print(class_names)\n",
        "class_datapoints = torch.zeros(num_classes, dtype=torch.long)\n",
        "\n",
        "for _,label,_ in dataloaders['aug_train']:\n",
        " for i in label:\n",
        "   class_datapoints[i]+=1\n",
        "print(class_datapoints)\n"
      ],
      "execution_count": null,
      "outputs": [
        {
          "output_type": "stream",
          "text": [
            "11\n",
            "{'aug_train': 4640, 'val': 846}\n",
            "['Cleaning_floor', 'Climbing', 'Jumping', 'Riding_bike', 'Riding_horse', 'Rowing_boat', 'Running', 'Shooting_arrow', 'Throwing_frisby', 'Walking_dog', 'Waving_hands']\n",
            "tensor([  50,  400,  700,  800,  900,   30,  300,   80,  180, 1000,  200])\n"
          ],
          "name": "stdout"
        }
      ]
    },
    {
      "cell_type": "code",
      "metadata": {
        "id": "elMuFQHR9gPZ"
      },
      "source": [
        ""
      ],
      "execution_count": null,
      "outputs": []
    },
    {
      "cell_type": "code",
      "metadata": {
        "id": "ywartOfIWmEz",
        "outputId": "b5df2ebf-304d-4331-8dbc-f7f6ef6e136d",
        "colab": {
          "base_uri": "https://localhost:8080/",
          "height": 54
        }
      },
      "source": [
        "'''import cv2\n",
        "for i in range (0,8):\n",
        "  im=images[i].numpy()\n",
        "  \n",
        "  im_aug=im.transpose((1,2,0))\n",
        "  \n",
        "  \n",
        "  \n",
        "  plt.imshow(im_aug)\n",
        "  plt.savefig('_augment'+str(i)+'.jpg')\n",
        "  plt.figure()\n",
        "  im_original=cv2.imread(paths[i])\n",
        "  plt.imshow(im_original[:,:,[2,1,0]])\n",
        "  plt.savefig('_original'+str(i)+'.jpg')\n",
        "  \n",
        "\n",
        "  \n",
        "\n",
        "\n",
        "  #plt.savefig(('augmented image'+str(i)))\n",
        "'''"
      ],
      "execution_count": null,
      "outputs": [
        {
          "output_type": "execute_result",
          "data": {
            "text/plain": [
              "\"import cv2\\nfor i in range (0,8):\\n  im=images[i].numpy()\\n  \\n  im_aug=im.transpose((1,2,0))\\n  \\n  \\n  \\n  plt.imshow(im_aug)\\n  plt.savefig('_augment'+str(i)+'.jpg')\\n  plt.figure()\\n  im_original=cv2.imread(paths[i])\\n  plt.imshow(im_original[:,:,[2,1,0]])\\n  plt.savefig('_original'+str(i)+'.jpg')\\n  \\n\\n  \\n\\n\\n  #plt.savefig(('augmented image'+str(i)))\\n\""
            ]
          },
          "metadata": {
            "tags": []
          },
          "execution_count": 13
        }
      ]
    },
    {
      "cell_type": "code",
      "metadata": {
        "id": "3wDeCvBwvdUH",
        "outputId": "cdaeb7f2-16d7-4045-c057-744af41b74b7",
        "colab": {
          "base_uri": "https://localhost:8080/",
          "height": 54
        }
      },
      "source": [
        "\n",
        "\"\"\"Imshow for Tensor.\"\"\"\n",
        "'''\n",
        "for i in range (8):\n",
        "  inp=images[i]\n",
        "  inp = inp.numpy().transpose((1, 2, 0))\n",
        "  #mean = np.array([0.485, 0.456, 0.406])\n",
        "  #std = np.array([0.229, 0.224, 0.225])\n",
        "  #inp = std * inp + mean\n",
        "  plt.imshow(inp)\n",
        "  plt.figure()\n",
        "'''    "
      ],
      "execution_count": null,
      "outputs": [
        {
          "output_type": "execute_result",
          "data": {
            "text/plain": [
              "'\\nfor i in range (8):\\n  inp=images[i]\\n  inp = inp.numpy().transpose((1, 2, 0))\\n  #mean = np.array([0.485, 0.456, 0.406])\\n  #std = np.array([0.229, 0.224, 0.225])\\n  #inp = std * inp + mean\\n  plt.imshow(inp)\\n  plt.figure()\\n'"
            ]
          },
          "metadata": {
            "tags": []
          },
          "execution_count": 14
        }
      ]
    },
    {
      "cell_type": "code",
      "metadata": {
        "id": "9hXFUg6LWlHD"
      },
      "source": [
        ""
      ],
      "execution_count": null,
      "outputs": []
    },
    {
      "cell_type": "code",
      "metadata": {
        "id": "MWlGUnb2vdUK"
      },
      "source": [
        "def train_model(model, criterion, optimizer, scheduler, num_epochs=25):\n",
        "    since = time.time()\n",
        "\n",
        "    best_model_wts = copy.deepcopy(model.state_dict())\n",
        "    best_acc = 0.0\n",
        "    losses=[]\n",
        "    accuracies=[]\n",
        "\n",
        "    for epoch in range(num_epochs):\n",
        "        print('Epoch {}/{}'.format(epoch, num_epochs - 1))\n",
        "        print('-' * 10)\n",
        "\n",
        "        # Each epoch has a training and validation phase\n",
        "        for phase in ['aug_train', 'val']:\n",
        "            if phase == 'aug_train':\n",
        "                scheduler.step()\n",
        "                model.train()  # Set model to training mode\n",
        "            else:\n",
        "                model.eval()   # Set model to evaluate mode\n",
        "\n",
        "            running_loss = 0.0\n",
        "            running_corrects = 0\n",
        "\n",
        "            # Iterate over data.\n",
        "            for inputs, labels,paths in dataloaders[phase]:\n",
        "                inputs = inputs.to(device)\n",
        "                labels = labels.to(device)\n",
        "               \n",
        "\n",
        "                # zero the parameter gradients\n",
        "                optimizer.zero_grad()\n",
        "\n",
        "                # forward\n",
        "                # track history if only in train\n",
        "                with torch.set_grad_enabled(phase == 'aug_train'):\n",
        "                    outputs = model(inputs)\n",
        "                  \n",
        "                    _, preds = torch.max(outputs, 1)\n",
        "                    loss = criterion(outputs, labels)\n",
        "                 \n",
        "\n",
        "\n",
        "\n",
        "                    # backward + optimize only if in training phase\n",
        "                    if phase == 'aug_train':\n",
        "                        loss.backward()\n",
        "                        optimizer.step()\n",
        "\n",
        "                # statistics\n",
        "                running_loss += loss.item() * inputs.size(0)\n",
        "                running_corrects += torch.sum(preds == labels.data)\n",
        "                \n",
        "\n",
        "            epoch_loss = running_loss / dataset_sizes[phase]\n",
        "            epoch_acc = running_corrects.double() / dataset_sizes[phase]\n",
        "          \n",
        "\n",
        "            print('{} Loss: {:.4f} Acc: {:.4f} '.format(\n",
        "                phase, epoch_loss, epoch_acc))\n",
        "\n",
        "            # deep copy the model\n",
        "            if phase == 'val' and epoch_acc > best_acc:\n",
        "                best_acc = epoch_acc\n",
        "                best_model_wts = copy.deepcopy(model.state_dict())\n",
        "            if phase=='aug_train':\n",
        "              losses.append(epoch_loss)\n",
        "              accuracies.append(epoch_acc)\n",
        "\n",
        "\n",
        "        print()\n",
        "\n",
        "    time_elapsed = time.time() - since\n",
        "    print('Training complete in {:.0f}m {:.0f}s'.format(\n",
        "        time_elapsed // 60, time_elapsed % 60))\n",
        "    print('Best val Acc: {:4f}'.format(best_acc))\n",
        "\n",
        "    # load best model weights\n",
        "    model.load_state_dict(best_model_wts)\n",
        "    return model,losses,accuracies"
      ],
      "execution_count": null,
      "outputs": []
    },
    {
      "cell_type": "code",
      "metadata": {
        "id": "sQHHEmKMvdUP",
        "outputId": "80fdd9ec-a84a-4cd9-b576-ce6a2c78eedd",
        "colab": {
          "base_uri": "https://localhost:8080/",
          "height": 82,
          "referenced_widgets": [
            "f5088970e23c475d8e4f23e4ef513d93",
            "f8d8f100f6934c2ba1162c3b14f9d177",
            "298ab7b470704e08bbd0fb0cda957689",
            "84a1c1e3c88743519b36b91ba7398898",
            "0a750391e63b40e980c6eaa7b332754a",
            "a2b16ee7ac37478d9e6e5d657e7802e8",
            "5f61854513ee4cdc844027a678c9e9d4",
            "023e4d951ba549e39aa23a0f0b97f45e"
          ]
        }
      },
      "source": [
        "\n",
        "#model_ft = models.resnet50(pretrained=True)\n",
        "#num_ftrs = model_ft.fc.ifeatures\n",
        "#model_ft.fc = nn.Linear(num_ftrs, 11)\n",
        "\n",
        "#model_ft = models.densenet161(pretrained=True)\n",
        "#model_ft.classifier=nn.Linear(2208,29)\n",
        "\n",
        "#model_ft = models.vgg19_bn(pretrained=True)\n",
        "#model_ft.classifier._modules['6']=nn.Linear(4096,12) \n",
        "\n",
        "#model_ft = models.vgg16(pretrained=True)\n",
        "#model_ft.classifier._modules['6']=nn.Linear(4096,7)\n",
        "\n",
        "#model_ft = models.vgg16_bn(pretrained=True)\n",
        "#model_ft.classifier._modules['6']=nn.Linear(4096,7)\n",
        "\n",
        "#model_ft = models.vgg11(pretrained=True)\n",
        "#model_ft.classifier._modules['6']=nn.Linear(4096,7)\n",
        "\n",
        "#model_ft = models.vgg11_bn(pretrained=True)\n",
        "#model_ft.classifier._modules['6']=nn.Linear(4096,7)\n",
        "\n",
        "#model_ft = models.vgg13(pretrained=True)\n",
        "#model_ft.classifier._modules['6']=nn.Linear(4096,7)\n",
        "\n",
        "\n",
        "#model_ft = models.vgg13_bn(pretrained=True)\n",
        "#model_ft.classifier._modules['6']=nn.Linear(4096,7)\n",
        "#model_ft = models.resnet18(pretrained=True)\n",
        "#model_ft.fc= nn.Linear(512,7)\n",
        "#model_ft = models.resnet34(pretrained=True)\n",
        "#model_ft.fc= nn.Linear(512,7)\n",
        "\n",
        "\n",
        "\n",
        "#model_ft = models.resnet18(pretrained=True)\n",
        "#model_ft.fc= nn.Linear()\n",
        "\n",
        "#model_ft = models.resnet34(pretrained=True)\n",
        "#model_ft.fc= nn.Linear()\n",
        "\n",
        "#model_ft = models.resnet101(pretrained=True)\n",
        "#model_ft.fc= nn.Linear()\n",
        "\n",
        "model_ft = models.resnet152(pretrained=True)\n",
        "model_ft.fc= nn.Linear(2048,11)\n",
        "\n",
        "\n",
        "#model_ft=models.alexnet(pretrained=True)\n",
        "#model_ft\n",
        "\n",
        "#model_ft = models.squeezenet1_0(pretrained=True)\n",
        "#model_ft\n",
        "\n",
        "#model_ft = models.squeezenet1_1(pretrained=True)\n",
        "#model_ft\n",
        "\n",
        "#model_ft = models.densenet121(pretrained=True)\n",
        "#model_ft \n",
        "\n",
        "#model_ft = models.densenet161(pretrained=True)\n",
        "#model_ft\n",
        "\n",
        "#model_ft = models.densenet169(pretrained=True)\n",
        "#model_ft\n",
        "\n",
        "#model_ft = models.densenet201(pretrained=True)\n",
        "#model_ft\n",
        "\n",
        "#model_ft = models.inception_v3(pretrained=True)  ##need input size 299,299\n",
        "#model_ft\n",
        "\n",
        "#model_ft = models.googlenet(pretrained=True)\n",
        "#model_ft\n",
        "\n",
        "#model_ft = models.shufflenet_v2_x1_0(pretrained=True)\n",
        "#model_ft = \n",
        "\n",
        "#model_ft = models.mobilenet_v2(pretrained=True)\n",
        "#model_ft\n",
        "\n",
        "#model_ft = models.wide_resnet50_2(pretrained=True)\n",
        "#model_ft\n",
        "\n",
        "#model_ft = models.mnasnet0_5(pretrained=True)\n",
        "#model_ft\n",
        "\n",
        "#model_ft = models.mnasnet0_75(pretrained=True)\n",
        "#model_ft\n",
        "\n",
        "#model_ft = models.mnasnet1_0(pretrained=True)\n",
        "#model_ft\n",
        "\n",
        "#model_ft = models.mnasnet1_3(pretrained=True)\n",
        "#model_ft\n",
        "\n",
        "\n",
        "\n",
        "model_ft = model_ft.to(device)\n",
        "\n",
        "criterion = nn.CrossEntropyLoss()\n",
        "\n",
        "# Observe that all parameters are being optimized\n",
        "optimizer_ft = optim.SGD(model_ft.parameters(), lr=0.001, momentum=0.9)\n",
        "\n",
        "# Decay LR by a factor of 0.1 every 7 epochs\n",
        "exp_lr_scheduler = lr_scheduler.StepLR(optimizer_ft, step_size=5, gamma=0.1)"
      ],
      "execution_count": null,
      "outputs": [
        {
          "output_type": "stream",
          "text": [
            "Downloading: \"https://download.pytorch.org/models/resnet152-b121ed2d.pth\" to /root/.cache/torch/hub/checkpoints/resnet152-b121ed2d.pth\n"
          ],
          "name": "stderr"
        },
        {
          "output_type": "display_data",
          "data": {
            "application/vnd.jupyter.widget-view+json": {
              "model_id": "f5088970e23c475d8e4f23e4ef513d93",
              "version_minor": 0,
              "version_major": 2
            },
            "text/plain": [
              "HBox(children=(FloatProgress(value=0.0, max=241530880.0), HTML(value='')))"
            ]
          },
          "metadata": {
            "tags": []
          }
        },
        {
          "output_type": "stream",
          "text": [
            "\n"
          ],
          "name": "stdout"
        }
      ]
    },
    {
      "cell_type": "code",
      "metadata": {
        "id": "1HPlvGmDvdUS",
        "outputId": "8f735645-95e4-44e3-ee7e-41529e17b888",
        "colab": {
          "base_uri": "https://localhost:8080/",
          "height": 1000
        }
      },
      "source": [
        "model_ft,losses,accuracies = train_model(model_ft, criterion, optimizer_ft, exp_lr_scheduler,num_epochs=30)"
      ],
      "execution_count": null,
      "outputs": [
        {
          "output_type": "stream",
          "text": [
            "Epoch 0/29\n",
            "----------\n"
          ],
          "name": "stdout"
        },
        {
          "output_type": "stream",
          "text": [
            "/usr/local/lib/python3.6/dist-packages/torch/optim/lr_scheduler.py:123: UserWarning: Detected call of `lr_scheduler.step()` before `optimizer.step()`. In PyTorch 1.1.0 and later, you should call them in the opposite order: `optimizer.step()` before `lr_scheduler.step()`.  Failure to do this will result in PyTorch skipping the first value of the learning rate schedule. See more details at https://pytorch.org/docs/stable/optim.html#how-to-adjust-learning-rate\n",
            "  \"https://pytorch.org/docs/stable/optim.html#how-to-adjust-learning-rate\", UserWarning)\n"
          ],
          "name": "stderr"
        },
        {
          "output_type": "stream",
          "text": [
            "aug_train Loss: 0.5373 Acc: 0.8412 \n",
            "val Loss: 0.2552 Acc: 0.9326 \n",
            "\n",
            "Epoch 1/29\n",
            "----------\n",
            "aug_train Loss: 0.1023 Acc: 0.9761 \n",
            "val Loss: 0.1567 Acc: 0.9610 \n",
            "\n",
            "Epoch 2/29\n",
            "----------\n",
            "aug_train Loss: 0.0497 Acc: 0.9871 \n",
            "val Loss: 0.1445 Acc: 0.9551 \n",
            "\n",
            "Epoch 3/29\n",
            "----------\n",
            "aug_train Loss: 0.0264 Acc: 0.9955 \n",
            "val Loss: 0.2000 Acc: 0.9338 \n",
            "\n",
            "Epoch 4/29\n",
            "----------\n",
            "aug_train Loss: 0.0175 Acc: 0.9966 \n",
            "val Loss: 0.1490 Acc: 0.9574 \n",
            "\n",
            "Epoch 5/29\n",
            "----------\n",
            "aug_train Loss: 0.0129 Acc: 0.9983 \n",
            "val Loss: 0.1465 Acc: 0.9527 \n",
            "\n",
            "Epoch 6/29\n",
            "----------\n",
            "aug_train Loss: 0.0120 Acc: 0.9987 \n",
            "val Loss: 0.1338 Acc: 0.9586 \n",
            "\n",
            "Epoch 7/29\n",
            "----------\n",
            "aug_train Loss: 0.0128 Acc: 0.9974 \n",
            "val Loss: 0.1284 Acc: 0.9598 \n",
            "\n",
            "Epoch 8/29\n",
            "----------\n",
            "aug_train Loss: 0.0113 Acc: 0.9989 \n",
            "val Loss: 0.1225 Acc: 0.9645 \n",
            "\n",
            "Epoch 9/29\n",
            "----------\n",
            "aug_train Loss: 0.0107 Acc: 0.9991 \n",
            "val Loss: 0.1317 Acc: 0.9610 \n",
            "\n",
            "Epoch 10/29\n",
            "----------\n",
            "aug_train Loss: 0.0097 Acc: 0.9991 \n",
            "val Loss: 0.1286 Acc: 0.9681 \n",
            "\n",
            "Epoch 11/29\n",
            "----------\n",
            "aug_train Loss: 0.0103 Acc: 0.9991 \n",
            "val Loss: 0.1335 Acc: 0.9598 \n",
            "\n",
            "Epoch 12/29\n",
            "----------\n",
            "aug_train Loss: 0.0140 Acc: 0.9966 \n",
            "val Loss: 0.1234 Acc: 0.9610 \n",
            "\n",
            "Epoch 13/29\n",
            "----------\n",
            "aug_train Loss: 0.0097 Acc: 0.9989 \n",
            "val Loss: 0.1325 Acc: 0.9586 \n",
            "\n",
            "Epoch 14/29\n",
            "----------\n",
            "aug_train Loss: 0.0101 Acc: 0.9987 \n",
            "val Loss: 0.1322 Acc: 0.9622 \n",
            "\n",
            "Epoch 15/29\n",
            "----------\n",
            "aug_train Loss: 0.0098 Acc: 0.9985 \n",
            "val Loss: 0.1294 Acc: 0.9634 \n",
            "\n",
            "Epoch 16/29\n",
            "----------\n",
            "aug_train Loss: 0.0102 Acc: 0.9994 \n",
            "val Loss: 0.1332 Acc: 0.9563 \n",
            "\n",
            "Epoch 17/29\n",
            "----------\n",
            "aug_train Loss: 0.0097 Acc: 0.9983 \n",
            "val Loss: 0.1340 Acc: 0.9598 \n",
            "\n",
            "Epoch 18/29\n",
            "----------\n",
            "aug_train Loss: 0.0102 Acc: 0.9981 \n",
            "val Loss: 0.1224 Acc: 0.9645 \n",
            "\n",
            "Epoch 19/29\n",
            "----------\n",
            "aug_train Loss: 0.0085 Acc: 0.9998 \n",
            "val Loss: 0.1274 Acc: 0.9610 \n",
            "\n",
            "Epoch 20/29\n",
            "----------\n",
            "aug_train Loss: 0.0091 Acc: 0.9994 \n",
            "val Loss: 0.1289 Acc: 0.9610 \n",
            "\n",
            "Epoch 21/29\n",
            "----------\n",
            "aug_train Loss: 0.0111 Acc: 0.9987 \n",
            "val Loss: 0.1294 Acc: 0.9622 \n",
            "\n",
            "Epoch 22/29\n",
            "----------\n",
            "aug_train Loss: 0.0097 Acc: 0.9989 \n",
            "val Loss: 0.1215 Acc: 0.9645 \n",
            "\n",
            "Epoch 23/29\n",
            "----------\n",
            "aug_train Loss: 0.0153 Acc: 0.9974 \n",
            "val Loss: 0.1243 Acc: 0.9634 \n",
            "\n",
            "Epoch 24/29\n",
            "----------\n",
            "aug_train Loss: 0.0104 Acc: 0.9994 \n",
            "val Loss: 0.1362 Acc: 0.9598 \n",
            "\n",
            "Epoch 25/29\n",
            "----------\n",
            "aug_train Loss: 0.0100 Acc: 0.9991 \n",
            "val Loss: 0.1237 Acc: 0.9657 \n",
            "\n",
            "Epoch 26/29\n",
            "----------\n",
            "aug_train Loss: 0.0095 Acc: 0.9989 \n",
            "val Loss: 0.1271 Acc: 0.9645 \n",
            "\n",
            "Epoch 27/29\n",
            "----------\n",
            "aug_train Loss: 0.0110 Acc: 0.9985 \n",
            "val Loss: 0.1252 Acc: 0.9657 \n",
            "\n",
            "Epoch 28/29\n",
            "----------\n",
            "aug_train Loss: 0.0098 Acc: 0.9983 \n",
            "val Loss: 0.1375 Acc: 0.9563 \n",
            "\n",
            "Epoch 29/29\n",
            "----------\n",
            "aug_train Loss: 0.0112 Acc: 0.9985 \n",
            "val Loss: 0.1270 Acc: 0.9622 \n",
            "\n",
            "Training complete in 71m 50s\n",
            "Best val Acc: 0.968085\n"
          ],
          "name": "stdout"
        }
      ]
    },
    {
      "cell_type": "code",
      "metadata": {
        "id": "j2gMS9L6vdUU"
      },
      "source": [
        "torch.save(model_ft.state_dict(),'/content/drive1/My Drive/ppmi 24 nets/resnet152.pth')"
      ],
      "execution_count": null,
      "outputs": []
    },
    {
      "cell_type": "code",
      "metadata": {
        "id": "kas5amDavdUX"
      },
      "source": [
        "model = models.resnet152(pretrained=False)\n",
        "model.fc=nn.Linear(2048,24) \n",
        "\n",
        "\n",
        "model.load_state_dict(torch.load('/content/drive1/My Drive/ppmi 24 nets/resnet152.pth'))\n",
        "model=model.to(device)\n"
      ],
      "execution_count": null,
      "outputs": []
    },
    {
      "cell_type": "code",
      "metadata": {
        "id": "-UXkm3Ta6qPF"
      },
      "source": [
        "import numpy as np\n",
        "import matplotlib.pyplot as plt\n",
        "from sklearn import metrics\n",
        "\n",
        "\n",
        "\n",
        "from sklearn.metrics import confusion_matrix\n",
        "from sklearn.utils.multiclass import unique_labels\n",
        "from sklearn.metrics import classification_report"
      ],
      "execution_count": null,
      "outputs": []
    },
    {
      "cell_type": "code",
      "metadata": {
        "id": "i1MItAve6qLz"
      },
      "source": [
        "test_tuple=datasets.ImageFolder('/content/drive/My Drive/Stanford40/body/val',transform=data_transforms['val'])\n",
        "test_dataloader=torch.utils.data.DataLoader(test_tuple,batch_size=1,shuffle=True)\n",
        "#test_dataloader=dataloaders['val']\n",
        "class_names=test_tuple.classes\n",
        "i=0\n",
        "#print(len(test_tuple))\n",
        "length=dataset_sizes['val']\n",
        "y_true=torch.zeros([length,1])\n",
        "y_pred=torch.zeros([length,1])\n",
        "for inputs ,labels in test_dataloader:\n",
        "\n",
        "  model_ft.eval()\n",
        "\n",
        "  inputs=inputs.to(device)\n",
        "  outputs=model_ft(inputs)\n",
        "\n",
        "   \n",
        "  y_true[i][0]=labels\n",
        "   \n",
        "  maxvlaues,indices = torch.max(outputs, 1)\n",
        "  y_pred[i][0]=indices\n",
        "  #print(y_true[i][0],y_pred[i][0])\n",
        "  i=i+1\n",
        "  #print(i)\n",
        "   \n",
        "   \n",
        "   \n",
        "   \n"
      ],
      "execution_count": null,
      "outputs": []
    },
    {
      "cell_type": "code",
      "metadata": {
        "id": "FBEMAW2NJdHi",
        "outputId": "519ce923-26a3-4353-b7ef-236b31df909e",
        "colab": {
          "base_uri": "https://localhost:8080/",
          "height": 538
        }
      },
      "source": [
        "true=y_true.numpy()\n",
        "pred=y_pred.numpy()\n",
        "precision = metrics.precision_score(true,pred,average='macro')\n",
        "recall = metrics.recall_score(true,pred,average='macro')\n",
        "accuracy = metrics.accuracy_score(true,pred)\n",
        "f1_score = metrics.f1_score(true,pred,average='macro')\n",
        "print('Confusion Matrix:\\n',metrics.confusion_matrix(true, pred))\n",
        "\n",
        "print('Precision: {} Recall: {}, Accuracy: {}: ,f1_score: {}'.format(precision,recall,accuracy,f1_score))\n",
        "repo=classification_report(true,pred,target_names=class_names)\n",
        "print(repo)\n"
      ],
      "execution_count": null,
      "outputs": [
        {
          "output_type": "stream",
          "text": [
            "Confusion Matrix:\n",
            " [[61  0  0  0  0  0  0  0  0  1  0]\n",
            " [ 0 95  0  0  0  0  0  0  0  0  0]\n",
            " [ 0  1 88  0  0  0  3  1  1  1  0]\n",
            " [ 0  0  0 93  0  0  0  0  0  0  0]\n",
            " [ 0  0  0  0 96  0  0  0  0  0  0]\n",
            " [ 0  0  0  0  0 55  0  0  0  0  0]\n",
            " [ 1  0  4  0  0  0 74  0  1  0  1]\n",
            " [ 0  0  1  0  0  0  0 63  0  0  0]\n",
            " [ 0  0  1  0  0  0  3  0 48  0  0]\n",
            " [ 0  0  0  0  0  0  1  0  0 92  0]\n",
            " [ 0  0  2  0  0  0  0  1  0  0 57]]\n",
            "Precision: 0.9722194553482963 Recall: 0.9700423853667346, Accuracy: 0.9716312056737588: ,f1_score: 0.9710601047226365\n",
            "                 precision    recall  f1-score   support\n",
            "\n",
            " Cleaning_floor       0.98      0.98      0.98        62\n",
            "       Climbing       0.99      1.00      0.99        95\n",
            "        Jumping       0.92      0.93      0.92        95\n",
            "    Riding_bike       1.00      1.00      1.00        93\n",
            "   Riding_horse       1.00      1.00      1.00        96\n",
            "    Rowing_boat       1.00      1.00      1.00        55\n",
            "        Running       0.91      0.91      0.91        81\n",
            " Shooting_arrow       0.97      0.98      0.98        64\n",
            "Throwing_frisby       0.96      0.92      0.94        52\n",
            "    Walking_dog       0.98      0.99      0.98        93\n",
            "   Waving_hands       0.98      0.95      0.97        60\n",
            "\n",
            "       accuracy                           0.97       846\n",
            "      macro avg       0.97      0.97      0.97       846\n",
            "   weighted avg       0.97      0.97      0.97       846\n",
            "\n"
          ],
          "name": "stdout"
        }
      ]
    },
    {
      "cell_type": "code",
      "metadata": {
        "id": "emMLdqglzauz"
      },
      "source": [
        "text_file=open(\"stanford 40 non-body augval.txt\",'w',newline='\\n')\n",
        "text_file.write(repo)\n",
        "text_file.close()"
      ],
      "execution_count": null,
      "outputs": []
    },
    {
      "cell_type": "code",
      "metadata": {
        "id": "6oTNmJCAJdLp",
        "outputId": "f26b6faf-a1fa-4e0e-f38b-3a65f09e4c51",
        "colab": {
          "base_uri": "https://localhost:8080/",
          "height": 624
        }
      },
      "source": [
        "def plot_confusion_matrix(y_true, y_pred, classes,\n",
        "                          normalize=False,\n",
        "                          title=None,\n",
        "                          cmap=plt.cm.Blues):\n",
        "    \"\"\"\n",
        "    This function prints and plots the confusion matrix.\n",
        "    Normalization can be applied by setting `normalize=True`.\n",
        "    \"\"\"\n",
        "    if not title:\n",
        "        if normalize:\n",
        "            title = 'Normalized confusion matrix'\n",
        "        else:\n",
        "            title = 'Confusion matrix, without normalization'\n",
        "# Compute confusion matrix\n",
        "    cm = metrics.confusion_matrix(y_true, y_pred)\n",
        "    # Only use the labels that appear in the data\n",
        "    #classes = classes[unique_labels(y_true, y_pred)]\n",
        "    if normalize:\n",
        "        cm = cm.astype('float') / cm.sum(axis=1)[:, np.newaxis]\n",
        "        print(\"Normalized confusion matrix\")\n",
        "    else:\n",
        "        print('Confusion matrix, without normalization')\n",
        "    \n",
        "    fig, ax = get_new_fig('eljfnekwg',figsize=[9,9])\n",
        "    im = ax.imshow(cm, interpolation='nearest', cmap=cmap)\n",
        "    ax.figure.colorbar(im, ax=ax)\n",
        "        # We want to show all ticks...\n",
        "    ax.set(xticks=np.arange(cm.shape[1]),\n",
        "              yticks=np.arange(cm.shape[0]),\n",
        "              # ... and label them with the respective list entries\n",
        "    xticklabels=classes, yticklabels=classes,\n",
        "              title=title,\n",
        "              ylabel='True label',\n",
        "              xlabel='Predicted label')\n",
        "    # Rotate the tick labels and set their alignment.\n",
        "    plt.setp(ax.get_xticklabels(), rotation=60, ha=\"right\",\n",
        "                rotation_mode=\"anchor\")\n",
        "    # Loop over data dimensions and create text annotations.\n",
        "    #fmt = '.2f' if normalize else 'd'\n",
        "    #thresh = cm.max() / 2.\n",
        "    #for i in range(cm.shape[0]):\n",
        "        #for j in range(cm.shape[1]):\n",
        "            #ax.text(j, i, format(cm[i, j], fmt),\n",
        "                    #ha=\"center\", va=\"center\",\n",
        "                    #color=\"white\" if cm[i, j] > thresh else \"black\")\n",
        "    \n",
        "\n",
        "    return ax\n",
        "plot_confusion_matrix(true, pred, classes= class_names,title='Confusion matrix of Stanford 40  Non-Body motion (imbalanced classes) ')"
      ],
      "execution_count": null,
      "outputs": [
        {
          "output_type": "stream",
          "text": [
            "Confusion matrix, without normalization\n"
          ],
          "name": "stdout"
        },
        {
          "output_type": "execute_result",
          "data": {
            "text/plain": [
              "<matplotlib.axes._subplots.AxesSubplot at 0x7f800b071cf8>"
            ]
          },
          "metadata": {
            "tags": []
          },
          "execution_count": 21
        },
        {
          "output_type": "display_data",
          "data": {
            "image/png": "[encoded data removed]",
            "text/plain": [
              "<Figure size 648x648 with 2 Axes>"
            ]
          },
          "metadata": {
            "tags": [],
            "needs_background": "light"
          }
        }
      ]
    },
    {
      "cell_type": "code",
      "metadata": {
        "id": "ASWUwUI-iSje"
      },
      "source": [
        "def get_new_fig(fn, figsize=[9,9]):\n",
        "    \"\"\" Init graphics \"\"\"\n",
        "    fig1 = plt.figure(fn, figsize)\n",
        "    ax1 = fig1.gca()   #Get Current Axis\n",
        "    ax1.cla() # clear existing plot\n",
        "    return fig1, ax1"
      ],
      "execution_count": null,
      "outputs": []
    },
    {
      "cell_type": "code",
      "metadata": {
        "id": "Ks0wQEuUSxEp"
      },
      "source": [
        ""
      ],
      "execution_count": null,
      "outputs": []
    }
  ]
}